{
 "cells": [
  {
   "cell_type": "code",
   "execution_count": 6,
   "metadata": {},
   "outputs": [],
   "source": [
    "#Import Libraries\n",
    "\n",
    "%matplotlib inline\n",
    "import sklearn\n",
    "import sklearn.mixture\n",
    "import matplotlib.pyplot as plt\n",
    "import numpy as np\n",
    "import pandas as pd\n",
    "from sklearn.cluster import KMeans\n",
    "from sklearn.decomposition import PCA\n",
    "from sklearn.manifold import TSNE\n",
    "import seaborn as sns\n",
    "import umap\n",
    "from sklearn.mixture import GaussianMixture\n",
    "sns.set_palette(sns.color_palette(\"hls\", 20))"
   ]
  },
  {
   "cell_type": "code",
   "execution_count": 7,
   "metadata": {},
   "outputs": [
    {
     "name": "stdout",
     "output_type": "stream",
     "text": [
      "no stored variable my_dictionary1\n"
     ]
    },
    {
     "ename": "NameError",
     "evalue": "name 'my_dictionary1' is not defined",
     "output_type": "error",
     "traceback": [
      "\u001b[0;31m---------------------------------------------------------------------------\u001b[0m",
      "\u001b[0;31mNameError\u001b[0m                                 Traceback (most recent call last)",
      "\u001b[0;32m<ipython-input-7-52071df56758>\u001b[0m in \u001b[0;36m<module>\u001b[0;34m\u001b[0m\n\u001b[1;32m      2\u001b[0m \u001b[0;34m\u001b[0m\u001b[0m\n\u001b[1;32m      3\u001b[0m \u001b[0mget_ipython\u001b[0m\u001b[0;34m(\u001b[0m\u001b[0;34m)\u001b[0m\u001b[0;34m.\u001b[0m\u001b[0mrun_line_magic\u001b[0m\u001b[0;34m(\u001b[0m\u001b[0;34m'store'\u001b[0m\u001b[0;34m,\u001b[0m \u001b[0;34m'-r my_dictionary1 '\u001b[0m\u001b[0;34m)\u001b[0m\u001b[0;34m\u001b[0m\u001b[0;34m\u001b[0m\u001b[0m\n\u001b[0;32m----> 4\u001b[0;31m \u001b[0mplt\u001b[0m\u001b[0;34m.\u001b[0m\u001b[0mlegend\u001b[0m\u001b[0;34m(\u001b[0m\u001b[0;34m[\u001b[0m\u001b[0mmy_dictionary1\u001b[0m\u001b[0;34m[\u001b[0m\u001b[0;34m\"c1\"\u001b[0m\u001b[0;34m]\u001b[0m\u001b[0;34m,\u001b[0m \u001b[0mmy_dictionary1\u001b[0m\u001b[0;34m[\u001b[0m\u001b[0;34m\"c2\"\u001b[0m\u001b[0;34m]\u001b[0m\u001b[0;34m,\u001b[0m \u001b[0mmy_dictionary1\u001b[0m\u001b[0;34m[\u001b[0m\u001b[0;34m\"c3\"\u001b[0m\u001b[0;34m]\u001b[0m\u001b[0;34m,\u001b[0m \u001b[0mmy_dictionary1\u001b[0m\u001b[0;34m[\u001b[0m\u001b[0;34m\"c4\"\u001b[0m\u001b[0;34m]\u001b[0m\u001b[0;34m,\u001b[0m \u001b[0mmy_dictionary1\u001b[0m\u001b[0;34m[\u001b[0m\u001b[0;34m\"c5\"\u001b[0m\u001b[0;34m]\u001b[0m\u001b[0;34m,\u001b[0m \u001b[0mmy_dictionary1\u001b[0m\u001b[0;34m[\u001b[0m\u001b[0;34m\"c6\"\u001b[0m\u001b[0;34m]\u001b[0m\u001b[0;34m,\u001b[0m \u001b[0mmy_dictionary1\u001b[0m\u001b[0;34m[\u001b[0m\u001b[0;34m\"c7\"\u001b[0m\u001b[0;34m]\u001b[0m\u001b[0;34m,\u001b[0m \u001b[0mmy_dictionary1\u001b[0m\u001b[0;34m[\u001b[0m\u001b[0;34m\"c8\"\u001b[0m\u001b[0;34m]\u001b[0m\u001b[0;34m]\u001b[0m\u001b[0;34m,\u001b[0m\u001b[0;34m[\u001b[0m\u001b[0;34m'Cluster 1'\u001b[0m\u001b[0;34m,\u001b[0m \u001b[0;34m'Cluster 2'\u001b[0m\u001b[0;34m,\u001b[0m\u001b[0;34m'Cluster 3'\u001b[0m\u001b[0;34m,\u001b[0m \u001b[0;34m'Cluster 4'\u001b[0m\u001b[0;34m,\u001b[0m \u001b[0;34m'Cluster 5'\u001b[0m\u001b[0;34m,\u001b[0m \u001b[0;34m'Cluster 6'\u001b[0m\u001b[0;34m,\u001b[0m \u001b[0;34m'Cluster 7'\u001b[0m\u001b[0;34m,\u001b[0m \u001b[0;34m'Cluster 8'\u001b[0m\u001b[0;34m]\u001b[0m\u001b[0;34m)\u001b[0m\u001b[0;34m\u001b[0m\u001b[0;34m\u001b[0m\u001b[0m\n\u001b[0m\u001b[1;32m      5\u001b[0m \u001b[0mplt\u001b[0m\u001b[0;34m.\u001b[0m\u001b[0mtitle\u001b[0m\u001b[0;34m(\u001b[0m\u001b[0;34m'Visualizing K-Means clusters using PCA'\u001b[0m\u001b[0;34m)\u001b[0m\u001b[0;34m\u001b[0m\u001b[0;34m\u001b[0m\u001b[0m\n\u001b[1;32m      6\u001b[0m \u001b[0mplt\u001b[0m\u001b[0;34m.\u001b[0m\u001b[0mshow\u001b[0m\u001b[0;34m(\u001b[0m\u001b[0;34m)\u001b[0m\u001b[0;34m\u001b[0m\u001b[0;34m\u001b[0m\u001b[0m\n",
      "\u001b[0;31mNameError\u001b[0m: name 'my_dictionary1' is not defined"
     ]
    }
   ],
   "source": [
    "#Visualizing K-Means with 8 clusters using PCA\n",
    "\n",
    "%store -r my_dictionary1 \n",
    "plt.legend([my_dictionary1[\"c1\"], my_dictionary1[\"c2\"], my_dictionary1[\"c3\"], my_dictionary1[\"c4\"], my_dictionary1[\"c5\"], my_dictionary1[\"c6\"], my_dictionary1[\"c7\"], my_dictionary1[\"c8\"]],['Cluster 1', 'Cluster 2','Cluster 3', 'Cluster 4', 'Cluster 5', 'Cluster 6', 'Cluster 7', 'Cluster 8'])\n",
    "plt.title('Visualizing K-Means clusters using PCA')\n",
    "plt.show()"
   ]
  },
  {
   "cell_type": "code",
   "execution_count": null,
   "metadata": {},
   "outputs": [],
   "source": [
    "#Visualizing K-Means with 8 clusters using 250 t-SNE iterations\n",
    "\n",
    "%store -r my_dictionary2\n",
    "plt.legend([my_dictionary2[\"c1\"], my_dictionary2[\"c2\"], my_dictionary2[\"c3\"], my_dictionary2[\"c4\"], my_dictionary2[\"c5\"], my_dictionary2[\"c6\"], my_dictionary2[\"c7\"], my_dictionary2[\"c8\"]],['Cluster 1', 'Cluster 2','Cluster 3', 'Cluster 4', 'Cluster 5', 'Cluster 6', 'Cluster 7', 'Cluster 8'])\n",
    "plt.title('Visualizing K-Means clusters using t-SNE')\n",
    "plt.show()"
   ]
  },
  {
   "cell_type": "code",
   "execution_count": null,
   "metadata": {},
   "outputs": [],
   "source": [
    "#Visualizing K-Means with 8 clusters using 500 t-SNE iterations\n",
    "\n",
    "%store -r my_dictionary3\n",
    "plt.legend([my_dictionary3[\"c1\"], my_dictionary3[\"c2\"], my_dictionary3[\"c3\"], my_dictionary3[\"c4\"], my_dictionary3[\"c5\"], my_dictionary3[\"c6\"], my_dictionary3[\"c7\"], my_dictionary3[\"c8\"]],['Cluster 1', 'Cluster 2','Cluster 3', 'Cluster 4', 'Cluster 5', 'Cluster 6', 'Cluster 7', 'Cluster 8'])\n",
    "plt.title('Visualizing K-Means clusters using t-SNE')\n",
    "plt.show()"
   ]
  },
  {
   "cell_type": "code",
   "execution_count": null,
   "metadata": {},
   "outputs": [],
   "source": [
    "#Visualizing K-Means with 8 clusters using 1000 t-SNE iterations\n",
    "\n",
    "%store -r my_dictionary4\n",
    "plt.legend([my_dictionary4[\"c1\"], my_dictionary4[\"c2\"], my_dictionary4[\"c3\"], my_dictionary4[\"c4\"], my_dictionary4[\"c5\"], my_dictionary4[\"c6\"], my_dictionary4[\"c7\"], my_dictionary4[\"c8\"]],['Cluster 1', 'Cluster 2','Cluster 3', 'Cluster 4', 'Cluster 5', 'Cluster 6', 'Cluster 7', 'Cluster 8'])\n",
    "plt.title('Visualizing K-Means clusters using t-SNE')\n",
    "plt.show()"
   ]
  },
  {
   "cell_type": "code",
   "execution_count": null,
   "metadata": {},
   "outputs": [],
   "source": [
    "#Visualizing K-Means with 8 clusters using 2000 t-SNE iterations\n",
    "\n",
    "%store -r my_dictionary5\n",
    "plt.legend([my_dictionary5[\"c1\"], my_dictionary5[\"c2\"], my_dictionary5[\"c3\"], my_dictionary5[\"c4\"], my_dictionary5[\"c5\"], my_dictionary5[\"c6\"], my_dictionary5[\"c7\"], my_dictionary5[\"c8\"]],['Cluster 1', 'Cluster 2','Cluster 3', 'Cluster 4', 'Cluster 5', 'Cluster 6', 'Cluster 7', 'Cluster 8'])\n",
    "plt.title('Visualizing K-Means clusters using t-SNE')\n",
    "plt.show()"
   ]
  },
  {
   "cell_type": "code",
   "execution_count": null,
   "metadata": {},
   "outputs": [],
   "source": []
  }
 ],
 "metadata": {
  "kernelspec": {
   "display_name": "Python 3",
   "language": "python",
   "name": "python3"
  },
  "language_info": {
   "codemirror_mode": {
    "name": "ipython",
    "version": 3
   },
   "file_extension": ".py",
   "mimetype": "text/x-python",
   "name": "python",
   "nbconvert_exporter": "python",
   "pygments_lexer": "ipython3",
   "version": "3.7.1"
  }
 },
 "nbformat": 4,
 "nbformat_minor": 2
}
